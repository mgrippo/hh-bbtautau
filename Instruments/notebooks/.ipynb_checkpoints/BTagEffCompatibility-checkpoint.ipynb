{
 "cells": [
  {
   "cell_type": "code",
   "execution_count": 15,
   "metadata": {},
   "outputs": [],
   "source": [
    "def intersection(int1, int2):\n",
    "    \n",
    "    if (int1[0] <= int2[1] and int1[1] >= int2[0]): \n",
    "        return 'overlap'\n",
    "    \n",
    "    else:\n",
    "        return 'not overlap'\n",
    "\n",
    "    #case 1: partial intersection over the left or right border\n",
    "    #if (int2[0]<=int1[0] and int2[1]>=int1[1]) or (int2[0]>=int1[0] and int2[1]<=int1[1]):\n",
    "        #return min(int1[1],int2[1]) - max(int1[0],int2[0])\n",
    "        #return 'overlap'\n",
    "\n",
    "    #case 2: complete overlap of one interval by the other\n",
    "    #elif (int2[0]>=int1[0] and int2[1]<=int1[1]) or (int2[0]<=int1[0] and int2[1]>=int1[1]):\n",
    "        #return min (int2[1]-int2[0] , int1[1]-int1[0])\n",
    "        #return 'overlap'\n",
    "\n",
    "    #case 3: no overlap at all\n",
    "    #else:\n",
    "        #return 'not overlap'"
   ]
  },
  {
   "cell_type": "code",
   "execution_count": 16,
   "metadata": {},
   "outputs": [],
   "source": [
    "import ROOT\n",
    "import scipy\n",
    "#import statsmodels\n",
    "from statsmodels.stats.proportion import proportion_confint"
   ]
  },
  {
   "cell_type": "code",
   "execution_count": 25,
   "metadata": {},
   "outputs": [],
   "source": [
    "type = 'b'\n",
    "\n",
    "file_LLR = ROOT.TFile('bTagEfficiencies_94X_2018WPs_Fall17MC_NEW.root')\n",
    "h_num_LLR = file_LLR.Get('h2_BTaggingEff_Num_'+type +'_M_ALL')\n",
    "h_denom_LLR = file_LLR.Get('h2_BTaggingEff_Denom_'+type +'_M_ALL')\n",
    "\n",
    "file_PI = ROOT.TFile('BTagEfficiency_deep_csv_pu_id_full.root')\n",
    "h_num_PI = file_PI.Get('All/Efficiency/h2_Num_'+type +'_M_all')\n",
    "h_denom_PI = file_PI.Get('All/Efficiency/h2_Denom_'+type +'_all_all')"
   ]
  },
  {
   "cell_type": "code",
   "execution_count": 26,
   "metadata": {},
   "outputs": [],
   "source": [
    "#canvas = ROOT.TCanvas('', '', 600, 600)\n",
    "#h_num_LLR.Draw('colz')\n",
    "#canvas.Draw()"
   ]
  },
  {
   "cell_type": "code",
   "execution_count": 27,
   "metadata": {},
   "outputs": [],
   "source": [
    "#canvas1 = ROOT.TCanvas('pippo', 'pippo', 600, 600)\n",
    "#h_denom_PI.Draw('colz')\n",
    "#canvas1.Draw()"
   ]
  },
  {
   "cell_type": "code",
   "execution_count": 28,
   "metadata": {},
   "outputs": [
    {
     "name": "stdout",
     "output_type": "stream",
     "text": [
      "pt_min     pt_max     eta_min    eta_max    eff_PI     ci_PI_low  ci_PI_up   err_low_PI[%]   err_up_PI[%]    eff_LLR    ci_LLR_low ci_LLR_up  err_low_LLR[%]  err_up_LLR[%]   compatibility  \n",
      "20.00      30.00      0.00       0.60       0.1110     0.1097     0.1124     1.22            1.23            0.1023     0.0983     0.1064     3.90            4.04            not overlap    \n",
      "20.00      30.00      0.60       1.20       0.1273     0.1258     0.1288     1.17            1.18            0.1241     0.1196     0.1287     3.59            3.70            overlap        \n",
      "20.00      30.00      1.20       2.10       0.1324     0.1310     0.1339     1.09            1.10            0.1240     0.1198     0.1283     3.38            3.48            not overlap    \n",
      "20.00      30.00      2.10       2.40       0.1127     0.1097     0.1158     2.69            2.75            0.1093     0.1004     0.1189     8.15            8.75            overlap        \n",
      "30.00      40.00      0.00       0.60       0.1115     0.1101     0.1129     1.23            1.24            0.1096     0.1055     0.1138     3.71            3.83            overlap        \n",
      "30.00      40.00      0.60       1.20       0.1355     0.1339     0.1371     1.17            1.18            0.1340     0.1293     0.1389     3.56            3.67            overlap        \n",
      "30.00      40.00      1.20       2.10       0.1400     0.1383     0.1416     1.17            1.18            0.1390     0.1342     0.1439     3.44            3.54            overlap        \n",
      "30.00      40.00      2.10       2.40       0.1118     0.1083     0.1154     3.12            3.20            0.1339     0.1228     0.1458     8.27            8.87            not overlap    \n",
      "40.00      60.00      0.00       0.60       0.1130     0.1120     0.1141     0.93            0.94            0.1164     0.1132     0.1198     2.79            2.86            overlap        \n",
      "40.00      60.00      0.60       1.20       0.1330     0.1318     0.1342     0.92            0.93            0.1371     0.1333     0.1410     2.78            2.85            overlap        \n",
      "40.00      60.00      1.20       2.10       0.1381     0.1368     0.1395     0.96            0.97            0.1401     0.1361     0.1443     2.89            2.96            overlap        \n",
      "40.00      60.00      2.10       2.40       0.1251     0.1219     0.1282     2.49            2.55            0.1169     0.1080     0.1265     7.65            8.17            overlap        \n",
      "60.00      100.00     0.00       0.60       0.1197     0.1186     0.1207     0.87            0.87            0.1233     0.1201     0.1266     2.61            2.67            overlap        \n",
      "60.00      100.00     0.60       1.20       0.1364     0.1352     0.1377     0.89            0.89            0.1377     0.1340     0.1416     2.73            2.79            overlap        \n",
      "60.00      100.00     1.20       2.10       0.1452     0.1438     0.1466     0.94            0.95            0.1476     0.1434     0.1519     2.86            2.92            overlap        \n",
      "60.00      100.00     2.10       2.40       0.1229     0.1196     0.1262     2.68            2.74            0.1060     0.0968     0.1159     8.70            9.38            not overlap    \n",
      "100.00     150.00     0.00       0.60       0.1321     0.1304     0.1339     1.32            1.34            0.1425     0.1368     0.1483     3.94            4.07            not overlap    \n",
      "100.00     150.00     0.60       1.20       0.1481     0.1460     0.1502     1.39            1.41            0.1352     0.1292     0.1415     4.47            4.64            not overlap    \n",
      "100.00     150.00     1.20       2.10       0.1392     0.1369     0.1415     1.63            1.65            0.1430     0.1361     0.1503     4.88            5.08            overlap        \n",
      "100.00     150.00     2.10       2.40       0.1156     0.1098     0.1216     4.97            5.19            0.0994     0.0834     0.1179     16.15           18.62           overlap        \n",
      "150.00     200.00     0.00       0.60       0.1286     0.1252     0.1321     2.63            2.69            0.1269     0.1166     0.1379     8.08            8.65            overlap        \n",
      "150.00     200.00     0.60       1.20       0.1414     0.1374     0.1455     2.82            2.89            0.1383     0.1264     0.1511     8.64            9.28            overlap        \n",
      "150.00     200.00     1.20       2.10       0.1301     0.1258     0.1346     3.35            3.44            0.1174     0.1047     0.1312     10.77           11.82           overlap        \n",
      "150.00     200.00     2.10       2.40       0.1027     0.0920     0.1144     10.38           11.37           0.0538     0.0308     0.0883     42.66           64.29           not overlap    \n",
      "200.00     300.00     0.00       0.60       0.1151     0.1103     0.1200     4.15            4.30            0.1027     0.0888     0.1182     13.48           15.17           overlap        \n",
      "200.00     300.00     0.60       1.20       0.1327     0.1269     0.1387     4.37            4.53            0.0907     0.0760     0.1077     16.20           18.72           not overlap    \n",
      "200.00     300.00     1.20       2.10       0.1031     0.0971     0.1095     5.84            6.15            0.1047     0.0868     0.1256     17.13           19.89           overlap        \n",
      "200.00     300.00     2.10       2.40       0.0662     0.0515     0.0842     22.18           27.24           0.0513     0.0183     0.1146     64.26           123.57          overlap        \n",
      "300.00     1000.00    0.00       0.60       0.0663     0.0593     0.0741     10.61           11.70           0.0429     0.0261     0.0675     39.20           57.40           overlap        \n",
      "300.00     1000.00    0.60       1.20       0.0746     0.0667     0.0834     10.63           11.72           0.0630     0.0416     0.0924     33.99           46.75           overlap        \n",
      "300.00     1000.00    1.20       2.10       0.0312     0.0249     0.0387     19.97           24.25           0.0122     0.0021     0.0395     82.58           224.30          overlap        \n",
      "300.00     1000.00    2.10       2.40       0.0769     0.0470     0.1198     38.96           55.78           0.1000     0.0173     0.2933     82.72           193.31          overlap        \n"
     ]
    }
   ],
   "source": [
    "\n",
    "\n",
    "print('{:10} {:10} {:10} {:10} {:10} {:10} {:10} {:15} {:15} {:10} {:10} {:10} {:15} {:15} {:15}'.\n",
    "      format('pt_min', 'pt_max', 'eta_min', 'eta_max' , 'eff_PI', 'ci_PI_low', 'ci_PI_up', 'err_low_PI[%]', 'err_up_PI[%]', 'eff_LLR' , 'ci_LLR_low', 'ci_LLR_up','err_low_LLR[%]', 'err_up_LLR[%]', 'compatibility'))\n",
    "\n",
    "for bin_x in range(1, h_num_LLR.GetXaxis().GetNbins() + 1):\n",
    "    for bin_y in range(1, h_num_LLR.GetYaxis().GetNbins() + 1):\n",
    "        eff_PI = h_num_PI.GetBinContent(bin_x, bin_y)/h_denom_PI.GetBinContent(bin_x, bin_y)\n",
    "        eff_LLR = h_num_LLR.GetBinContent(bin_x, bin_y)/h_denom_LLR.GetBinContent(bin_x, bin_y)\n",
    "        #ci_LLR = proportion_confint(count=h_num_LLR.GetBinContent(bin_x, bin_y), nobs=h_denom_LLR.GetBinContent(bin_x, bin_y), alpha=0.32, method='beta')\n",
    "        #ci_PI = proportion_confint(count=h_num_PI.GetBinContent(bin_x, bin_y), nobs=h_denom_PI.GetBinContent(bin_x, bin_y), alpha=0.32, method='beta')\n",
    "        z_LLR = proportions_ztest(count=h_num_LLR.GetBinContent(bin_x, bin_y), nobs=h_denom_LLR.GetBinContent(bin_x, bin_y), value=None, alternative='two-sided', prop_var=False)\n",
    "        z_PI = proportions_ztest(count=h_num_PI.GetBinContent(bin_x, bin_y), nobs=h_denom_PI.GetBinContent(bin_x, bin_y), value=None, alternative='two-sided', prop_var=False)\n",
    "        \n",
    "        if(eff_PI==0):\n",
    "            err_low_PI = 0\n",
    "            err_up_PI = 0\n",
    "        else :\n",
    "            err_low_PI = ((eff_PI - ci_PI[0])/eff_PI)*100\n",
    "            err_up_PI = ((ci_PI[1] - eff_PI)/eff_PI)*100\n",
    "        \n",
    "        if(eff_LLR==0):\n",
    "            err_low_LLR = 0\n",
    "            err_up_LLR = 0\n",
    "        else: \n",
    "            err_low_LLR = ((eff_LLR - ci_LLR[0])/eff_LLR)*100\n",
    "            err_up_LLR = ((ci_LLR[1] - eff_LLR)/eff_LLR)*100\n",
    "        \n",
    "        int2 = [ci_PI[0],ci_PI[1]]\n",
    "        int1 = [ci_LLR[0],ci_LLR[1]]\n",
    "        \n",
    "    \n",
    "        print('{:<10.2f} {:<10.2f} {:<10.2f} {:<10.2f} {:<10.4f} {:<10.4f} {:<10.4f} {:<15.2f} {:<15.2f} {:<10.4f} {:<10.4f} {:<10.4f} {:<15.2f} {:<15.2f} {:<15}'.\n",
    "              format(h_num_LLR.GetXaxis().GetBinLowEdge(bin_x), h_num_LLR.GetXaxis().GetBinLowEdge(bin_x+1),\n",
    "                    h_num_LLR.GetYaxis().GetBinLowEdge(bin_y), h_num_LLR.GetYaxis().GetBinLowEdge(bin_y+1),\n",
    "                    eff_PI, ci_PI[0], ci_PI[1], err_low_PI, err_up_PI, eff_LLR, ci_LLR[0], ci_LLR[1], err_low_LLR, err_up_LLR, intersection(int1, int2)))\n",
    "\n",
    "        \n"
   ]
  },
  {
   "cell_type": "code",
   "execution_count": null,
   "metadata": {},
   "outputs": [],
   "source": []
  },
  {
   "cell_type": "code",
   "execution_count": null,
   "metadata": {},
   "outputs": [],
   "source": []
  }
 ],
 "metadata": {
  "kernelspec": {
   "display_name": "Python 3",
   "language": "python",
   "name": "python3"
  },
  "language_info": {
   "codemirror_mode": {
    "name": "ipython",
    "version": 3
   },
   "file_extension": ".py",
   "mimetype": "text/x-python",
   "name": "python",
   "nbconvert_exporter": "python",
   "pygments_lexer": "ipython3",
   "version": "3.6.6"
  }
 },
 "nbformat": 4,
 "nbformat_minor": 2
}
