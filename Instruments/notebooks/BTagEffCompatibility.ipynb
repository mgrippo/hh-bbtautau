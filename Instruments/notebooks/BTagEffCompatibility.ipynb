{
 "cells": [
  {
   "cell_type": "code",
   "execution_count": 1,
   "metadata": {},
   "outputs": [],
   "source": [
    "def intersection(int1, int2):\n",
    "    \n",
    "    if (int1[0] <= int2[1] and int1[1] >= int2[0]): \n",
    "        return 'overlap'\n",
    "    \n",
    "    else:\n",
    "        return 'not overlap'\n",
    "\n",
    "    #case 1: partial intersection over the left or right border\n",
    "    #if (int2[0]<=int1[0] and int2[1]>=int1[1]) or (int2[0]>=int1[0] and int2[1]<=int1[1]):\n",
    "        #return min(int1[1],int2[1]) - max(int1[0],int2[0])\n",
    "        #return 'overlap'\n",
    "\n",
    "    #case 2: complete overlap of one interval by the other\n",
    "    #elif (int2[0]>=int1[0] and int2[1]<=int1[1]) or (int2[0]<=int1[0] and int2[1]>=int1[1]):\n",
    "        #return min (int2[1]-int2[0] , int1[1]-int1[0])\n",
    "        #return 'overlap'\n",
    "\n",
    "    #case 3: no overlap at all\n",
    "    #else:\n",
    "        #return 'not overlap'"
   ]
  },
  {
   "cell_type": "code",
   "execution_count": 7,
   "metadata": {},
   "outputs": [],
   "source": [
    "import ROOT\n",
    "import scipy\n",
    "import numpy as np\n",
    "#import statsmodels\n",
    "from statsmodels.stats.proportion import proportion_confint\n",
    "from statsmodels.stats.proportion import proportions_ztest"
   ]
  },
  {
   "cell_type": "code",
   "execution_count": 17,
   "metadata": {},
   "outputs": [],
   "source": [
    "type = 'udsg'\n",
    "\n",
    "file_LLR = ROOT.TFile('bTagEfficiencies_94X_2018WPs_Fall17MC_NEW.root')\n",
    "h_num_LLR = file_LLR.Get('h2_BTaggingEff_Num_'+type +'_M_ALL')\n",
    "h_denom_LLR = file_LLR.Get('h2_BTaggingEff_Denom_'+type +'_M_ALL')\n",
    "\n",
    "file_PI = ROOT.TFile('BTagEfficiency_deep_csv_pu_id_full.root')\n",
    "h_num_PI = file_PI.Get('All/Efficiency/h2_Num_'+type +'_M_all')\n",
    "h_denom_PI = file_PI.Get('All/Efficiency/h2_Denom_'+type +'_all_all')"
   ]
  },
  {
   "cell_type": "code",
   "execution_count": 18,
   "metadata": {},
   "outputs": [],
   "source": [
    "#canvas = ROOT.TCanvas('', '', 600, 600)\n",
    "#h_num_LLR.Draw('colz')\n",
    "#canvas.Draw()"
   ]
  },
  {
   "cell_type": "code",
   "execution_count": 19,
   "metadata": {},
   "outputs": [],
   "source": [
    "#canvas1 = ROOT.TCanvas('pippo', 'pippo', 600, 600)\n",
    "#h_denom_PI.Draw('colz')\n",
    "#canvas1.Draw()"
   ]
  },
  {
   "cell_type": "code",
   "execution_count": 20,
   "metadata": {},
   "outputs": [
    {
     "name": "stdout",
     "output_type": "stream",
     "text": [
      "pt_min     pt_max     eta_min    eta_max    eff_PI     ci_PI_low  ci_PI_up   err_low_PI[%]   err_up_PI[%]    eff_LLR    ci_LLR_low ci_LLR_up  err_low_LLR[%]  err_up_LLR[%]   p_value   \n",
      "20.00      30.00      0.00       0.60       0.0065     0.0064     0.0067     1.80            1.83            0.0054     0.0050     0.0057     6.30            6.71            0.002     \n",
      "20.00      30.00      0.60       1.20       0.0097     0.0095     0.0098     1.52            1.54            0.0086     0.0082     0.0091     5.08            5.34            0.035     \n",
      "20.00      30.00      1.20       2.10       0.0149     0.0147     0.0151     1.11            1.13            0.0134     0.0129     0.0139     3.68            3.81            0.006     \n",
      "20.00      30.00      2.10       2.40       0.0124     0.0120     0.0127     2.60            2.67            0.0130     0.0120     0.0141     7.99            8.65            0.549     \n",
      "30.00      40.00      0.00       0.60       0.0052     0.0051     0.0053     2.49            2.56            0.0052     0.0048     0.0056     7.67            8.28            0.971     \n",
      "30.00      40.00      0.60       1.20       0.0083     0.0082     0.0085     2.06            2.10            0.0072     0.0067     0.0077     6.89            7.38            0.035     \n",
      "30.00      40.00      1.20       2.10       0.0139     0.0137     0.0141     1.51            1.54            0.0133     0.0127     0.0140     4.74            4.97            0.406     \n",
      "30.00      40.00      2.10       2.40       0.0127     0.0123     0.0131     3.41            3.53            0.0126     0.0113     0.0141     10.24           11.34           0.954     \n",
      "40.00      60.00      0.00       0.60       0.0052     0.0050     0.0053     2.18            2.23            0.0049     0.0045     0.0052     6.93            7.42            0.431     \n",
      "40.00      60.00      0.60       1.20       0.0081     0.0079     0.0082     1.85            1.88            0.0072     0.0067     0.0076     6.13            6.52            0.064     \n",
      "40.00      60.00      1.20       2.10       0.0132     0.0130     0.0134     1.42            1.44            0.0126     0.0121     0.0132     4.50            4.71            0.352     \n",
      "40.00      60.00      2.10       2.40       0.0134     0.0130     0.0138     3.13            3.23            0.0124     0.0111     0.0137     10.03           11.08           0.444     \n",
      "60.00      100.00     0.00       0.60       0.0057     0.0056     0.0058     2.20            2.25            0.0057     0.0053     0.0061     6.86            7.34            0.939     \n",
      "60.00      100.00     0.60       1.20       0.0083     0.0081     0.0084     1.95            1.99            0.0080     0.0075     0.0085     6.20            6.60            0.648     \n",
      "60.00      100.00     1.20       2.10       0.0134     0.0132     0.0136     1.54            1.56            0.0123     0.0117     0.0129     5.05            5.31            0.089     \n",
      "60.00      100.00     2.10       2.40       0.0130     0.0125     0.0135     3.53            3.65            0.0120     0.0106     0.0135     11.64           13.07           0.496     \n",
      "100.00     150.00     0.00       0.60       0.0068     0.0065     0.0070     3.27            3.38            0.0075     0.0067     0.0083     9.76            10.75           0.338     \n",
      "100.00     150.00     0.60       1.20       0.0085     0.0083     0.0088     3.11            3.20            0.0080     0.0072     0.0089     10.10           11.17           0.541     \n",
      "100.00     150.00     1.20       2.10       0.0132     0.0129     0.0136     2.50            2.56            0.0130     0.0120     0.0141     7.86            8.50            0.823     \n",
      "100.00     150.00     2.10       2.40       0.0115     0.0108     0.0122     6.11            6.49            0.0137     0.0114     0.0165     17.15           20.34           0.329     \n",
      "150.00     200.00     0.00       0.60       0.0069     0.0065     0.0073     5.75            6.09            0.0059     0.0048     0.0073     19.35           23.50           0.461     \n",
      "150.00     200.00     0.60       1.20       0.0067     0.0062     0.0071     6.22            6.62            0.0074     0.0060     0.0090     18.65           22.47           0.609     \n",
      "150.00     200.00     1.20       2.10       0.0104     0.0099     0.0110     4.94            5.18            0.0096     0.0080     0.0114     16.02           18.79           0.611     \n",
      "150.00     200.00     2.10       2.40       0.0091     0.0080     0.0102     11.58           12.99           0.0108     0.0073     0.0156     32.49           45.08           0.622     \n",
      "200.00     300.00     0.00       0.60       0.0071     0.0066     0.0077     7.49            8.07            0.0073     0.0056     0.0094     23.19           29.27           0.921     \n",
      "200.00     300.00     0.60       1.20       0.0060     0.0055     0.0066     8.59            9.36            0.0074     0.0056     0.0097     24.57           31.45           0.430     \n",
      "200.00     300.00     1.20       2.10       0.0085     0.0079     0.0091     7.02            7.53            0.0084     0.0065     0.0107     22.01           27.44           0.971     \n",
      "200.00     300.00     2.10       2.40       0.0043     0.0034     0.0055     22.04           27.51           0.0018     0.0003     0.0060     82.57           228.16          0.385     \n",
      "300.00     1000.00    0.00       0.60       0.0040     0.0034     0.0048     15.84           18.57           0.0000     0.0000     0.0019     0.00            0.00            0.046     \n",
      "300.00     1000.00    0.60       1.20       0.0037     0.0030     0.0044     16.96           20.11           0.0022     0.0008     0.0050     64.39           130.92          0.457     \n",
      "300.00     1000.00    1.20       2.10       0.0050     0.0043     0.0059     14.92           17.32           0.0044     0.0023     0.0078     47.65           78.37           0.787     \n",
      "300.00     1000.00    2.10       2.40       0.0068     0.0047     0.0097     30.90           42.24           0.0000     0.0000     0.0115     0.00            0.00            0.298     \n"
     ]
    }
   ],
   "source": [
    "\n",
    "\n",
    "print('{:10} {:10} {:10} {:10} {:10} {:10} {:10} {:15} {:15} {:10} {:10} {:10} {:15} {:15} {:10}'.\n",
    "      format('pt_min', 'pt_max', 'eta_min', 'eta_max' , 'eff_PI', 'ci_PI_low', 'ci_PI_up', 'err_low_PI[%]', 'err_up_PI[%]', 'eff_LLR' , 'ci_LLR_low', 'ci_LLR_up','err_low_LLR[%]', 'err_up_LLR[%]', 'p_value'))\n",
    "\n",
    "for bin_x in range(1, h_num_LLR.GetXaxis().GetNbins() + 1):\n",
    "    for bin_y in range(1, h_num_LLR.GetYaxis().GetNbins() + 1):\n",
    "        eff_PI = h_num_PI.GetBinContent(bin_x, bin_y)/h_denom_PI.GetBinContent(bin_x, bin_y)\n",
    "        eff_LLR = h_num_LLR.GetBinContent(bin_x, bin_y)/h_denom_LLR.GetBinContent(bin_x, bin_y)\n",
    "        ci_LLR = proportion_confint(count=h_num_LLR.GetBinContent(bin_x, bin_y), nobs=h_denom_LLR.GetBinContent(bin_x, bin_y), alpha=0.32, method='beta')\n",
    "        ci_PI = proportion_confint(count=h_num_PI.GetBinContent(bin_x, bin_y), nobs=h_denom_PI.GetBinContent(bin_x, bin_y), alpha=0.32, method='beta')\n",
    "        \n",
    "        if(eff_PI==0):\n",
    "            err_low_PI = 0\n",
    "            err_up_PI = 0\n",
    "        else :\n",
    "            err_low_PI = ((eff_PI - ci_PI[0])/eff_PI)*100\n",
    "            err_up_PI = ((ci_PI[1] - eff_PI)/eff_PI)*100\n",
    "        \n",
    "        if(eff_LLR==0):\n",
    "            err_low_LLR = 0\n",
    "            err_up_LLR = 0\n",
    "        else: \n",
    "            err_low_LLR = ((eff_LLR - ci_LLR[0])/eff_LLR)*100\n",
    "            err_up_LLR = ((ci_LLR[1] - eff_LLR)/eff_LLR)*100\n",
    "        \n",
    "        int2 = [ci_PI[0],ci_PI[1]]\n",
    "        int1 = [ci_LLR[0],ci_LLR[1]]\n",
    "        \n",
    "        counts = np.array([h_num_PI.GetBinContent(bin_x, bin_y), h_num_LLR.GetBinContent(bin_x, bin_y)])\n",
    "        nobs = np.array([h_denom_PI.GetBinContent(bin_x, bin_y), h_denom_LLR.GetBinContent(bin_x, bin_y)])\n",
    "        stat, pval = proportions_ztest(counts, nobs)\n",
    "        \n",
    "    \n",
    "        print('{:<10.2f} {:<10.2f} {:<10.2f} {:<10.2f} {:<10.4f} {:<10.4f} {:<10.4f} {:<15.2f} {:<15.2f} {:<10.4f} {:<10.4f} {:<10.4f} {:<15.2f} {:<15.2f} {:<10.3f}'.\n",
    "              format(h_num_LLR.GetXaxis().GetBinLowEdge(bin_x), h_num_LLR.GetXaxis().GetBinLowEdge(bin_x+1),\n",
    "                    h_num_LLR.GetYaxis().GetBinLowEdge(bin_y), h_num_LLR.GetYaxis().GetBinLowEdge(bin_y+1),\n",
    "                    eff_PI, ci_PI[0], ci_PI[1], err_low_PI, err_up_PI, eff_LLR, ci_LLR[0], ci_LLR[1], err_low_LLR, err_up_LLR, pval))\n",
    "        \n",
    "        \n",
    "\n",
    "        \n"
   ]
  },
  {
   "cell_type": "code",
   "execution_count": null,
   "metadata": {},
   "outputs": [],
   "source": []
  },
  {
   "cell_type": "code",
   "execution_count": null,
   "metadata": {},
   "outputs": [],
   "source": []
  }
 ],
 "metadata": {
  "kernelspec": {
   "display_name": "Python 3",
   "language": "python",
   "name": "python3"
  },
  "language_info": {
   "codemirror_mode": {
    "name": "ipython",
    "version": 3
   },
   "file_extension": ".py",
   "mimetype": "text/x-python",
   "name": "python",
   "nbconvert_exporter": "python",
   "pygments_lexer": "ipython3",
   "version": "3.6.6"
  }
 },
 "nbformat": 4,
 "nbformat_minor": 2
}
